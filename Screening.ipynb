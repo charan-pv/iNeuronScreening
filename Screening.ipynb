{
 "cells": [
  {
   "cell_type": "markdown",
   "id": "aad3f0b6",
   "metadata": {},
   "source": [
    "# 1.Function to read a file and replace the specific content of the file."
   ]
  },
  {
   "cell_type": "code",
   "execution_count": 44,
   "id": "7222f085",
   "metadata": {},
   "outputs": [],
   "source": [
    "def chfile1():\n",
    "    try:\n",
    "        f= input(\"Enter file name: \")\n",
    "        with open(f,\"r\") as text_file:\n",
    "            contents = text_file.read()\n",
    "            a=str(contents)\n",
    "            alist=a.split(' ')\n",
    "        b = input(\"Enter the word you want to replace: \")\n",
    "        if b not in alist:\n",
    "            print('word not found')\n",
    "        else:\n",
    "            c = input(\"Enter the replacement word: \")\n",
    "            contents = contents.replace(b,c,1)\n",
    "            with open(f,\"w\") as text_file:\n",
    "                text_file.write(contents)\n",
    "            with open(f,\"r\") as text_file:\n",
    "                content = text_file.read()\n",
    "            print(content)\n",
    "        \n",
    "    except Exception as e:\n",
    "        print(\"Error: \",e)"
   ]
  },
  {
   "cell_type": "markdown",
   "id": "91e58dd0",
   "metadata": {},
   "source": [
    "# 2.Use of Abstract class, multiple inheritance and decorators"
   ]
  },
  {
   "cell_type": "raw",
   "id": "06a0cfb7",
   "metadata": {},
   "source": [
    "Abstract Class:\n",
    "*Abstract class is used as a blueprint for other classes\n",
    "*Abstract class creates a set of methods that must be created within any child classes built from the abstract class\n",
    "*While we are designing large functional units we use an abstract class \n",
    "*When we are working with large team or large code base or situations where third-party is going to provide implementations,abstract class can be very useful.\n",
    "\n",
    "\n",
    "Eg:\n",
    "class Vehicle():\n",
    "    @abstractmethod\n",
    "    def noofwheels(self):\n",
    "        pass\n",
    "        \n",
    "class Car(Vehicle):\n",
    "    def noofwheel(self):\n",
    "        print('4 wheels')\n",
    "        \n",
    "class Bike(Vehicle):\n",
    "    def noofwheels(self):\n",
    "        print('2 wheels')\n",
    "        \n",
    "        \n",
    "*In this example the abstract method noofwheels is implemented differently in the child classes.\n"
   ]
  },
  {
   "cell_type": "raw",
   "id": "4b8b4540",
   "metadata": {},
   "source": [
    "Multiple Inheritance:\n",
    "*A class can inherit features from multiple base classes using multiple inheritance\n",
    "*Child class can inherit all the methods/functions or just the required methods/functions based on requirement.\n",
    "\n",
    "\n",
    "Eg:\n",
    "class A:\n",
    "    print('in A')    \n",
    "class B:\n",
    "    print('in B')\n",
    "    \n",
    "class C(A,B):\n",
    "    pass\n",
    "    \n",
    "obj1=C()\n",
    "obj1\n",
    "\n",
    "output:\n",
    "in A\n",
    "in B\n",
    "\n"
   ]
  },
  {
   "cell_type": "raw",
   "id": "49ae9749",
   "metadata": {},
   "source": [
    "Decorators:\n",
    "*Decorators can help to modify the behaviour of function or class\n",
    "*Decorator is used when you need to change the behavior of a function without modifying the function itself\n",
    "\n",
    "Eg: @staticmethod\n",
    "This is a python built in decorator which modifies a method function so that it does not use the self variable\n",
    "    "
   ]
  },
  {
   "cell_type": "code",
   "execution_count": null,
   "id": "0de33fc7",
   "metadata": {},
   "outputs": [],
   "source": []
  }
 ],
 "metadata": {
  "kernelspec": {
   "display_name": "Python 3 (ipykernel)",
   "language": "python",
   "name": "python3"
  },
  "language_info": {
   "codemirror_mode": {
    "name": "ipython",
    "version": 3
   },
   "file_extension": ".py",
   "mimetype": "text/x-python",
   "name": "python",
   "nbconvert_exporter": "python",
   "pygments_lexer": "ipython3",
   "version": "3.9.7"
  }
 },
 "nbformat": 4,
 "nbformat_minor": 5
}
